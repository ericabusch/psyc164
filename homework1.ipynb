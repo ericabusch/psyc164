{
 "cells": [
  {
   "cell_type": "code",
   "execution_count": 1,
   "metadata": {},
   "outputs": [
    {
     "name": "stderr",
     "output_type": "stream",
     "text": [
      "/dartfs-hpc/rc/home/4/f002d44/.local/lib/python2.7/site-packages/mvpa2/testing/tools.py:81: DeprecationWarning: Importing from numpy.testing.decorators is deprecated since numpy 1.15.0, import from numpy.testing instead.\n",
      "  from numpy.testing.decorators import skipif\n"
     ]
    }
   ],
   "source": [
    "import mvpa2\n",
    "from os.path import exists, join  \n",
    "import mvpa2.suite as mv\n",
    "import glob\n",
    "import numpy as np"
   ]
  },
  {
   "cell_type": "code",
   "execution_count": 2,
   "metadata": {},
   "outputs": [],
   "source": [
    "# set everything up ! \n",
    "subid = [1,12,17,27,32,33,34,36,37,41]\n",
    "subjs = ['{:0>6}'.format(i) for i in subid]\n",
    "hemis = ['lh', 'rh']\n",
    "data_path = '/dartfs-hpc/scratch/psyc164/mvpaces/glm/'\n",
    "datalad_path = '/dartfs/rc/lab/D/DBIC/DBIC/datasets.datalad.org/labs/haxby/attention/derivatives/'\n",
    "\n",
    "\n",
    "# change accordingly\n",
    "tas ks = ['beh','tax']\n",
    "sub, hemi = subjs[0], hemis[0]\n",
    "prefix = 'sub-rid'+sub\n",
    "suffix = hemi+'.coefs.gii'\n",
    "\n",
    "\n",
    "taxonomy = np.repeat(['bird', 'insect', 'primate', 'reptile', 'unduate'],4)\n",
    "behavior = np.tile(['eating', 'fighting', 'running', 'swimming'],5)\n",
    "conditions = [' '.join((beh, tax)) for beh, tax in zip(behavior, taxonomy)]"
   ]
  },
  {
   "cell_type": "code",
   "execution_count": 3,
   "metadata": {},
   "outputs": [],
   "source": [
    "# grab all subj1's  files into a list\n",
    "#fn = data_path+sub_pref+'*lh.coefs.gii'\n",
    "fn = data_path+prefix+'*'+suffix\n",
    "files = sorted(glob.glob(fn))"
   ]
  },
  {
   "cell_type": "code",
   "execution_count": 5,
   "metadata": {},
   "outputs": [
    {
     "name": "stderr",
     "output_type": "stream",
     "text": [
      "/dartfs-hpc/rc/home/4/f002d44/.local/lib/python2.7/site-packages/mvpa2/datasets/gifti.py:77: DeprecationWarning: giftiio.read function deprecated. Use nibabel.load() instead.\n",
      "\n",
      "* deprecated from version: 2.1\n",
      "* Will raise <class 'nibabel.deprecator.ExpiredDeprecationError'> as of version: 4.0\n",
      "  samples = giftiio.read(samples)\n"
     ]
    }
   ],
   "source": [
    "targets = range(1,21)\n",
    "ds = None\n",
    "for x in range(len(files)):\n",
    "    chunks = [x+1]*20\n",
    "    d = mv.gifti_dataset(files[x], chunks=chunks, targets=targets)\n",
    "    d.sa['conditions']=conditions\n",
    "    d.sa['taxonomy'] = taxonomy\n",
    "    d.sa['behavior'] = behavior\n",
    "    if ds is None:\n",
    "        ds = d\n",
    "    else:      \n",
    "        ds = mv.vstack((ds,d))"
   ]
  },
  {
   "cell_type": "code",
   "execution_count": 6,
   "metadata": {},
   "outputs": [],
   "source": [
    "ds.fa['node_indices']=range(ds.shape[1])\n",
    "train='behavior'"
   ]
  },
  {
   "cell_type": "code",
   "execution_count": 7,
   "metadata": {},
   "outputs": [
    {
     "name": "stderr",
     "output_type": "stream",
     "text": [
      "/dartfs-hpc/rc/home/4/f002d44/.local/lib/python2.7/site-packages/mvpa2/support/nibabel/surf_gifti.py:51: DeprecationWarning: giftiio.read function deprecated. Use nibabel.load() instead.\n",
      "\n",
      "* deprecated from version: 2.1\n",
      "* Will raise <class 'nibabel.deprecator.ExpiredDeprecationError'> as of version: 4.0\n",
      "  g = giftiio.read(fn)\n",
      "/dartfs-hpc/rc/home/4/f002d44/.local/lib/python2.7/site-packages/mvpa2/support/nibabel/surf_gifti.py:25: DeprecationWarning: getArraysFromIntent method deprecated. Use get_arrays_from_intent instead.\n",
      "\n",
      "* deprecated from version: 2.1\n",
      "* Will raise <class 'nibabel.deprecator.ExpiredDeprecationError'> as of version: 4.0\n",
      "  ar = g.getArraysFromIntent(intent)\n"
     ]
    }
   ],
   "source": [
    "# load surface and get searchlight query\n",
    "radius = 3 \n",
    "surface = mv.surf.read(join(data_path, '{0}.pial.gii'.format(hemi)))\n",
    "# this is an arbitrary radius and distance metric!\n",
    "query = mv.SurfaceQueryEngine(surface, radius, distance_metric='dijkstra')\n",
    "# based off PyMVPA tutorial\n",
    "clf = mv.LinearCSVMC()\n",
    "cv = mv.CrossValidation(clf, mv.NFoldPartitioner(attr=train),\n",
    "                     errorfx=lambda p, t: np.mean(p == t),\n",
    "                     enable_ca=['stats'])\n",
    "searchlights = mv.Searchlight(cv, queryengine=query, postproc=mv.mean_sample(), roi_ids=None)"
   ]
  },
  {
   "cell_type": "code",
   "execution_count": null,
   "metadata": {},
   "outputs": [
    {
     "name": "stderr",
     "output_type": "stream",
     "text": [
      "/dartfs-hpc/rc/home/4/f002d44/.local/lib/python2.7/site-packages/mvpa2/misc/attrmap.py:153: FutureWarning: Conversion of the second argument of issubdtype from `str` to `str` is deprecated. In future, it will be treated as `np.string_ == np.dtype(str).type`.\n",
      "  if not np.issubdtype(attr.dtype, str) and not self.mapnumeric:\n",
      "/dartfs-hpc/rc/home/4/f002d44/.local/lib/python2.7/site-packages/mvpa2/clfs/libsvmc/svm.py:215: FutureWarning: Conversion of the second argument of issubdtype from `'c'` to `str` is deprecated. In future, it will be treated as `np.string_ == np.dtype('c').type`.\n",
      "  if ( np.issubdtype(self.ca.trained_targets.dtype, 'c') or\n",
      "/dartfs-hpc/rc/home/4/f002d44/.local/lib/python2.7/site-packages/mvpa2/clfs/libsvmc/svm.py:216: FutureWarning: Conversion of the second argument of issubdtype from `'U'` to `unicode` is deprecated. In future, it will be treated as `np.unicode_ == np.dtype('U').type`.\n",
      "  np.issubdtype(self.ca.trained_targets.dtype, 'U') ):\n"
     ]
    },
    {
     "name": "stdout",
     "output_type": "stream",
     "text": [
      "WARNING: Obtained degenerate data with zero norm for training of <LinearCSVMC>.  Scaling of C cannot be done.\n",
      " * Please note: warnings are printed only once, but underlying problem might occur many times *\n"
     ]
    }
   ],
   "source": [
    "sl_clf_results = searchlights(ds)"
   ]
  },
  {
   "cell_type": "code",
   "execution_count": null,
   "metadata": {},
   "outputs": [],
   "source": []
  }
 ],
 "metadata": {
  "kernelspec": {
   "display_name": "Python 2",
   "language": "python",
   "name": "python2"
  },
  "language_info": {
   "codemirror_mode": {
    "name": "ipython",
    "version": 2
   },
   "file_extension": ".py",
   "mimetype": "text/x-python",
   "name": "python",
   "nbconvert_exporter": "python",
   "pygments_lexer": "ipython2",
   "version": "2.7.16"
  }
 },
 "nbformat": 4,
 "nbformat_minor": 2
}
